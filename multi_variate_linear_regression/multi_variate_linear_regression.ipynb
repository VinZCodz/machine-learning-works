{
  "cells": [
    {
      "cell_type": "markdown",
      "metadata": {
        "id": "view-in-github",
        "colab_type": "text"
      },
      "source": [
        "<a href=\"https://colab.research.google.com/github/VinZCodz/machine-learning-works/blob/main/multi_variate_linear_regression/multi_variate_linear_regression.ipynb\" target=\"_parent\"><img src=\"https://colab.research.google.com/assets/colab-badge.svg\" alt=\"Open In Colab\"/></a>"
      ]
    },
    {
      "cell_type": "markdown",
      "source": [
        "Basic Math (Vector and Scalar)"
      ],
      "metadata": {
        "id": "KebFMLq7_g_M"
      }
    },
    {
      "cell_type": "code",
      "source": [
        "import numpy as np\n",
        "\n",
        "a=np.array([1, 2, 3, 4])\n",
        "b=np.array([8, 9, 1, 2])\n",
        "\n",
        "c=a.dot(b)\n",
        "print(f'Dot product of vector a with only 1 sample and 4 features DOT vector b with similiar shape and features= {c}')\n",
        "\n",
        "a_mn=np.arange(6).reshape(2, 3)\n",
        "print(f'a_mn=\\n{a_mn}')\n"
      ],
      "metadata": {
        "id": "80tZSVF__rPq"
      },
      "execution_count": null,
      "outputs": []
    },
    {
      "cell_type": "markdown",
      "source": [],
      "metadata": {
        "id": "xRP4daj8B5Br"
      }
    }
  ],
  "metadata": {
    "colab": {
      "name": "scratchpad",
      "provenance": [],
      "include_colab_link": true
    },
    "kernelspec": {
      "display_name": "Python 3",
      "name": "python3"
    }
  },
  "nbformat": 4,
  "nbformat_minor": 0
}